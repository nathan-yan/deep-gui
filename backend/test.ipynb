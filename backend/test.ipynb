{
 "metadata": {
  "language_info": {
   "codemirror_mode": {
    "name": "ipython",
    "version": 3
   },
   "file_extension": ".py",
   "mimetype": "text/x-python",
   "name": "python",
   "nbconvert_exporter": "python",
   "pygments_lexer": "ipython3",
   "version": "3.7.6-final"
  },
  "orig_nbformat": 2,
  "kernelspec": {
   "name": "python3",
   "display_name": "Python 3"
  }
 },
 "nbformat": 4,
 "nbformat_minor": 2,
 "cells": [
  {
   "cell_type": "code",
   "execution_count": 1,
   "metadata": {},
   "outputs": [],
   "source": [
    "import torch\n",
    "import torch.nn as nn\n",
    "import torch.nn.functional as F\n",
    "\n",
    "class Net(nn.Module):\n",
    "    def __init__(self):\n",
    "        super(Net, self).__init__()\n",
    "        self.Linear_1 = nn.Linear(100,10)\n",
    "        self.Conv2d_1 = nn.Conv2d(1,6,3)\n",
    "    def forward(self, x):\n",
    "        x = self.Linear_1(x)\n",
    "        x = F.relu(x)\n",
    "        x = torch.flatten(x,1)\n",
    "        x = self.Conv2d_1(x)\n",
    "        return x"
   ]
  },
  {
   "cell_type": "code",
   "execution_count": 2,
   "metadata": {},
   "outputs": [
    {
     "output_type": "stream",
     "name": "stdout",
     "text": [
      "Net(\n  (Linear_1): Linear(in_features=100, out_features=10, bias=True)\n  (Conv2d_1): Conv2d(1, 6, kernel_size=(3, 3), stride=(1, 1))\n)\n"
     ]
    }
   ],
   "source": [
    "test_net = Net()\n",
    "print(test_net)"
   ]
  },
  {
   "cell_type": "code",
   "execution_count": null,
   "metadata": {},
   "outputs": [],
   "source": []
  }
 ]
}